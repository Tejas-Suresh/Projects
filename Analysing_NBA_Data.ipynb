{
 "cells": [
  {
   "cell_type": "code",
   "execution_count": 8,
   "metadata": {},
   "outputs": [],
   "source": [
    "import numpy as np\n",
    "import pandas as pd\n"
   ]
  },
  {
   "cell_type": "code",
   "execution_count": 10,
   "metadata": {},
   "outputs": [
    {
     "data": {
      "text/html": [
       "<div>\n",
       "<style scoped>\n",
       "    .dataframe tbody tr th:only-of-type {\n",
       "        vertical-align: middle;\n",
       "    }\n",
       "\n",
       "    .dataframe tbody tr th {\n",
       "        vertical-align: top;\n",
       "    }\n",
       "\n",
       "    .dataframe thead th {\n",
       "        text-align: right;\n",
       "    }\n",
       "</style>\n",
       "<table border=\"1\" class=\"dataframe\">\n",
       "  <thead>\n",
       "    <tr style=\"text-align: right;\">\n",
       "      <th></th>\n",
       "      <th>Year</th>\n",
       "      <th>Western Champion</th>\n",
       "      <th>Eastern Champion</th>\n",
       "      <th>Result</th>\n",
       "      <th>NBA Champion</th>\n",
       "      <th>NBA Vice-Champion</th>\n",
       "      <th>Final Sweep ?</th>\n",
       "      <th>MVP Name</th>\n",
       "      <th>MVP Height (m)</th>\n",
       "      <th>MVP Height (ft)</th>\n",
       "      <th>MVP Position</th>\n",
       "      <th>MVP Team</th>\n",
       "      <th>MVP Nationality</th>\n",
       "      <th>MVP status</th>\n",
       "    </tr>\n",
       "  </thead>\n",
       "  <tbody>\n",
       "    <tr>\n",
       "      <td>0</td>\n",
       "      <td>1950</td>\n",
       "      <td>Minneapolis Lakers</td>\n",
       "      <td>Syracuse Nationals</td>\n",
       "      <td>4–2</td>\n",
       "      <td>Minneapolis Lakers</td>\n",
       "      <td>Syracuse Nationals</td>\n",
       "      <td>False</td>\n",
       "      <td>NaN</td>\n",
       "      <td>NaN</td>\n",
       "      <td>NaN</td>\n",
       "      <td>NaN</td>\n",
       "      <td>NaN</td>\n",
       "      <td>NaN</td>\n",
       "      <td>NaN</td>\n",
       "    </tr>\n",
       "    <tr>\n",
       "      <td>1</td>\n",
       "      <td>1951</td>\n",
       "      <td>Rochester Royals</td>\n",
       "      <td>New York Knicks</td>\n",
       "      <td>4–3</td>\n",
       "      <td>Rochester Royals</td>\n",
       "      <td>New York Knicks</td>\n",
       "      <td>False</td>\n",
       "      <td>NaN</td>\n",
       "      <td>NaN</td>\n",
       "      <td>NaN</td>\n",
       "      <td>NaN</td>\n",
       "      <td>NaN</td>\n",
       "      <td>NaN</td>\n",
       "      <td>NaN</td>\n",
       "    </tr>\n",
       "    <tr>\n",
       "      <td>2</td>\n",
       "      <td>1952</td>\n",
       "      <td>Minneapolis Lakers</td>\n",
       "      <td>New York Knicks</td>\n",
       "      <td>4–3</td>\n",
       "      <td>Minneapolis Lakers</td>\n",
       "      <td>New York Knicks</td>\n",
       "      <td>False</td>\n",
       "      <td>NaN</td>\n",
       "      <td>NaN</td>\n",
       "      <td>NaN</td>\n",
       "      <td>NaN</td>\n",
       "      <td>NaN</td>\n",
       "      <td>NaN</td>\n",
       "      <td>NaN</td>\n",
       "    </tr>\n",
       "    <tr>\n",
       "      <td>3</td>\n",
       "      <td>1953</td>\n",
       "      <td>Minneapolis Lakers</td>\n",
       "      <td>New York Knicks</td>\n",
       "      <td>4–1</td>\n",
       "      <td>Minneapolis Lakers</td>\n",
       "      <td>New York Knicks</td>\n",
       "      <td>False</td>\n",
       "      <td>NaN</td>\n",
       "      <td>NaN</td>\n",
       "      <td>NaN</td>\n",
       "      <td>NaN</td>\n",
       "      <td>NaN</td>\n",
       "      <td>NaN</td>\n",
       "      <td>NaN</td>\n",
       "    </tr>\n",
       "    <tr>\n",
       "      <td>4</td>\n",
       "      <td>1954</td>\n",
       "      <td>Minneapolis Lakers</td>\n",
       "      <td>Syracuse Nationals</td>\n",
       "      <td>4–3</td>\n",
       "      <td>Minneapolis Lakers</td>\n",
       "      <td>Syracuse Nationals</td>\n",
       "      <td>False</td>\n",
       "      <td>NaN</td>\n",
       "      <td>NaN</td>\n",
       "      <td>NaN</td>\n",
       "      <td>NaN</td>\n",
       "      <td>NaN</td>\n",
       "      <td>NaN</td>\n",
       "      <td>NaN</td>\n",
       "    </tr>\n",
       "  </tbody>\n",
       "</table>\n",
       "</div>"
      ],
      "text/plain": [
       "   Year    Western Champion    Eastern Champion Result        NBA Champion  \\\n",
       "0  1950  Minneapolis Lakers  Syracuse Nationals    4–2  Minneapolis Lakers   \n",
       "1  1951    Rochester Royals     New York Knicks    4–3    Rochester Royals   \n",
       "2  1952  Minneapolis Lakers     New York Knicks    4–3  Minneapolis Lakers   \n",
       "3  1953  Minneapolis Lakers     New York Knicks    4–1  Minneapolis Lakers   \n",
       "4  1954  Minneapolis Lakers  Syracuse Nationals    4–3  Minneapolis Lakers   \n",
       "\n",
       "    NBA Vice-Champion  Final Sweep ? MVP Name  MVP Height (m)  \\\n",
       "0  Syracuse Nationals          False      NaN             NaN   \n",
       "1     New York Knicks          False      NaN             NaN   \n",
       "2     New York Knicks          False      NaN             NaN   \n",
       "3     New York Knicks          False      NaN             NaN   \n",
       "4  Syracuse Nationals          False      NaN             NaN   \n",
       "\n",
       "   MVP Height (ft) MVP Position MVP Team MVP Nationality MVP status  \n",
       "0              NaN          NaN      NaN             NaN        NaN  \n",
       "1              NaN          NaN      NaN             NaN        NaN  \n",
       "2              NaN          NaN      NaN             NaN        NaN  \n",
       "3              NaN          NaN      NaN             NaN        NaN  \n",
       "4              NaN          NaN      NaN             NaN        NaN  "
      ]
     },
     "execution_count": 10,
     "metadata": {},
     "output_type": "execute_result"
    }
   ],
   "source": [
    "#df=pd.read_csv(\"AUX_I.XPT\")\n",
    "db=pd.read_excel('https://query.data.world/s/cqgsjhuv7c4uk7zjyag3d5kr7rmb2p')\n",
    "db.head()\n",
    "#index_col = 2, skiprows=0 \n",
    "#these two fields are added at the end of the read_excel fn to set restrictions. index_col sets one of the cols as the index and skiprow skips a particular row"
   ]
  },
  {
   "cell_type": "code",
   "execution_count": 55,
   "metadata": {},
   "outputs": [
    {
     "data": {
      "text/plain": [
       "Year                   int64\n",
       "Western Champion      object\n",
       "Eastern Champion      object\n",
       "Result                object\n",
       "NBA Champion          object\n",
       "NBA Vice-Champion     object\n",
       "Final Sweep ?           bool\n",
       "MVP Name              object\n",
       "MVP Height (m)       float64\n",
       "MVP Height (ft)      float64\n",
       "MVP Position          object\n",
       "MVP Team              object\n",
       "MVP Nationality       object\n",
       "MVP status            object\n",
       "dtype: object"
      ]
     },
     "execution_count": 55,
     "metadata": {},
     "output_type": "execute_result"
    }
   ],
   "source": [
    "type(db)#->dataframe\n",
    "db.columns\n",
    "db.shape\n",
    "db.dtypes"
   ]
  },
  {
   "cell_type": "code",
   "execution_count": 19,
   "metadata": {},
   "outputs": [
    {
     "data": {
      "text/html": [
       "<div>\n",
       "<style scoped>\n",
       "    .dataframe tbody tr th:only-of-type {\n",
       "        vertical-align: middle;\n",
       "    }\n",
       "\n",
       "    .dataframe tbody tr th {\n",
       "        vertical-align: top;\n",
       "    }\n",
       "\n",
       "    .dataframe thead th {\n",
       "        text-align: right;\n",
       "    }\n",
       "</style>\n",
       "<table border=\"1\" class=\"dataframe\">\n",
       "  <thead>\n",
       "    <tr style=\"text-align: right;\">\n",
       "      <th></th>\n",
       "      <th>Year</th>\n",
       "      <th>Western Champion</th>\n",
       "      <th>Eastern Champion</th>\n",
       "      <th>NBA Champion</th>\n",
       "    </tr>\n",
       "  </thead>\n",
       "  <tbody>\n",
       "    <tr>\n",
       "      <td>64</td>\n",
       "      <td>2014</td>\n",
       "      <td>San Antonio Spurs</td>\n",
       "      <td>Miami Heat</td>\n",
       "      <td>San Antonio Spurs</td>\n",
       "    </tr>\n",
       "    <tr>\n",
       "      <td>65</td>\n",
       "      <td>2015</td>\n",
       "      <td>Golden State Warriors</td>\n",
       "      <td>Cleveland Cavaliers</td>\n",
       "      <td>Golden State Warriors</td>\n",
       "    </tr>\n",
       "    <tr>\n",
       "      <td>66</td>\n",
       "      <td>2016</td>\n",
       "      <td>Golden State Warriors</td>\n",
       "      <td>Cleveland Cavaliers</td>\n",
       "      <td>Cleveland Cavaliers</td>\n",
       "    </tr>\n",
       "    <tr>\n",
       "      <td>67</td>\n",
       "      <td>2017</td>\n",
       "      <td>Golden State Warriors</td>\n",
       "      <td>Cleveland Cavaliers</td>\n",
       "      <td>Golden State Warriors</td>\n",
       "    </tr>\n",
       "  </tbody>\n",
       "</table>\n",
       "</div>"
      ],
      "text/plain": [
       "    Year       Western Champion     Eastern Champion           NBA Champion\n",
       "64  2014      San Antonio Spurs           Miami Heat      San Antonio Spurs\n",
       "65  2015  Golden State Warriors  Cleveland Cavaliers  Golden State Warriors\n",
       "66  2016  Golden State Warriors  Cleveland Cavaliers    Cleveland Cavaliers\n",
       "67  2017  Golden State Warriors  Cleveland Cavaliers  Golden State Warriors"
      ]
     },
     "execution_count": 19,
     "metadata": {},
     "output_type": "execute_result"
    }
   ],
   "source": [
    "db.loc[34:39]\n",
    "db.loc[64:67,\"Year\"]\n",
    "db.loc[64:67,[\"Year\",\"Western Champion\",\"Eastern Champion\",\"NBA Champion\"]]"
   ]
  },
  {
   "cell_type": "code",
   "execution_count": 30,
   "metadata": {},
   "outputs": [
    {
     "data": {
      "text/html": [
       "<div>\n",
       "<style scoped>\n",
       "    .dataframe tbody tr th:only-of-type {\n",
       "        vertical-align: middle;\n",
       "    }\n",
       "\n",
       "    .dataframe tbody tr th {\n",
       "        vertical-align: top;\n",
       "    }\n",
       "\n",
       "    .dataframe thead th {\n",
       "        text-align: right;\n",
       "    }\n",
       "</style>\n",
       "<table border=\"1\" class=\"dataframe\">\n",
       "  <thead>\n",
       "    <tr style=\"text-align: right;\">\n",
       "      <th></th>\n",
       "      <th>Western Champion</th>\n",
       "      <th>Eastern Champion</th>\n",
       "      <th>NBA Champion</th>\n",
       "    </tr>\n",
       "  </thead>\n",
       "  <tbody>\n",
       "    <tr>\n",
       "      <td>64</td>\n",
       "      <td>San Antonio Spurs</td>\n",
       "      <td>Miami Heat</td>\n",
       "      <td>San Antonio Spurs</td>\n",
       "    </tr>\n",
       "    <tr>\n",
       "      <td>65</td>\n",
       "      <td>Golden State Warriors</td>\n",
       "      <td>Cleveland Cavaliers</td>\n",
       "      <td>Golden State Warriors</td>\n",
       "    </tr>\n",
       "    <tr>\n",
       "      <td>66</td>\n",
       "      <td>Golden State Warriors</td>\n",
       "      <td>Cleveland Cavaliers</td>\n",
       "      <td>Cleveland Cavaliers</td>\n",
       "    </tr>\n",
       "  </tbody>\n",
       "</table>\n",
       "</div>"
      ],
      "text/plain": [
       "         Western Champion     Eastern Champion           NBA Champion\n",
       "64      San Antonio Spurs           Miami Heat      San Antonio Spurs\n",
       "65  Golden State Warriors  Cleveland Cavaliers  Golden State Warriors\n",
       "66  Golden State Warriors  Cleveland Cavaliers    Cleveland Cavaliers"
      ]
     },
     "execution_count": 30,
     "metadata": {},
     "output_type": "execute_result"
    }
   ],
   "source": [
    "db.iloc[64:67,1]\n",
    "db.iloc[64:67,1:3]\n",
    "db.iloc[64:67,[1,2,4]]"
   ]
  },
  {
   "cell_type": "code",
   "execution_count": 38,
   "metadata": {},
   "outputs": [
    {
     "data": {
      "text/plain": [
       "array(['4–2', '4–3', '4–1', '3–4', '1–4', '0–4', '2–4', '4–0', '4-2',\n",
       "       '4-0'], dtype=object)"
      ]
     },
     "execution_count": 38,
     "metadata": {},
     "output_type": "execute_result"
    }
   ],
   "source": [
    "db.Result.unique()#prints unique vals.."
   ]
  },
  {
   "cell_type": "code",
   "execution_count": 52,
   "metadata": {},
   "outputs": [
    {
     "data": {
      "text/plain": [
       "MVP Team                NBA Champion          \n",
       "Baltimore Bullets       Boston Celtics            1\n",
       "Boston Celtics          Boston Celtics            7\n",
       "                        Los Angeles Lakers        1\n",
       "                        New York Knicks           1\n",
       "                        St. Louis Hawks           1\n",
       "Buffalo Braves          Golden State Warriors     1\n",
       "Chicago Bulls           Chicago Bulls             4\n",
       "                        Dallas Mavericks          1\n",
       "                        Los Angeles Lakers        1\n",
       "Cincinnati Royals       Boston Celtics            1\n",
       "Cleveland Cavaliers     Los Angeles Lakers        2\n",
       "Dallas Mavericks        San Antonio Spurs         1\n",
       "Golden State Warriors   Cleveland Cavaliers       1\n",
       "                        Golden State Warriors     1\n",
       "Houston Rockets         Golden State Warriors     1\n",
       "                        Houston Rockets           1\n",
       "                        Los Angeles Lakers        1\n",
       "                        Seattle SuperSonics       1\n",
       "Los Angeles Lakers      Boston Celtics            2\n",
       "                        Detroit Pistons           2\n",
       "                        Los Angeles Lakers        3\n",
       "                        Portland Trail Blazers    1\n",
       "Miami Heat              Miami Heat                2\n",
       "Milwaukee Bucks         Boston Celtics            1\n",
       "                        Los Angeles Lakers        1\n",
       "                        Milwaukee Bucks           1\n",
       "Minnesota Timberwolves  Detroit Pistons           1\n",
       "New York Knicks         New York Knicks           1\n",
       "Oklahoma City Thunder   Golden State Warriors     1\n",
       "                        San Antonio Spurs         1\n",
       "Philadelphia 76ers      Boston Celtics            3\n",
       "                        Los Angeles Lakers        1\n",
       "                        Philadelphia 76ers        2\n",
       "Philadelphia Warriors   Boston Celtics            1\n",
       "Phoenix Suns            Chicago Bulls             1\n",
       "                        Miami Heat                1\n",
       "                        San Antonio Spurs         1\n",
       "Portland Trail Blazers  Washington Bullets        1\n",
       "Saint Louis Hawks       Boston Celtics            1\n",
       "                        Philadelphia Warriors     1\n",
       "San Antonio Spurs       Houston Rockets           1\n",
       "                        Los Angeles Lakers        1\n",
       "                        San Antonio Spurs         1\n",
       "Utah Jazz               Chicago Bulls             1\n",
       "                        San Antonio Spurs         1\n",
       "dtype: int64"
      ]
     },
     "execution_count": 52,
     "metadata": {},
     "output_type": "execute_result"
    }
   ],
   "source": [
    "db.groupby([\"MVP Team\",\"NBA Champion\"]).size()#groupby fn relates two columns and prints"
   ]
  },
  {
   "cell_type": "code",
   "execution_count": 58,
   "metadata": {},
   "outputs": [
    {
     "name": "stdout",
     "output_type": "stream",
     "text": [
      "0\n",
      "69\n"
     ]
    }
   ],
   "source": [
    "print(pd.isnull(db.Year).sum())\n",
    "print(pd.notnull(db.Year).sum())#Check if columns have null vals"
   ]
  }
 ],
 "metadata": {
  "kernelspec": {
   "display_name": "Python 3",
   "language": "python",
   "name": "python3"
  },
  "language_info": {
   "codemirror_mode": {
    "name": "ipython",
    "version": 3
   },
   "file_extension": ".py",
   "mimetype": "text/x-python",
   "name": "python",
   "nbconvert_exporter": "python",
   "pygments_lexer": "ipython3",
   "version": "3.7.4"
  }
 },
 "nbformat": 4,
 "nbformat_minor": 2
}
