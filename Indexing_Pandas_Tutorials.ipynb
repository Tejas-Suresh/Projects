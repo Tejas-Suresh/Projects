{
 "cells": [
  {
   "cell_type": "code",
   "execution_count": 4,
   "metadata": {},
   "outputs": [
    {
     "data": {
      "text/plain": [
       "0    1\n",
       "1    2\n",
       "2    3\n",
       "dtype: int64"
      ]
     },
     "execution_count": 4,
     "metadata": {},
     "output_type": "execute_result"
    }
   ],
   "source": [
    "import pandas as pd\n",
    "#pd.Series?\n",
    "animals=[\"Tiger\",\"Lion\",\"Cow\"]\n",
    "pd.Series(animals)\n",
    "numb=[1,2,3]\n",
    "pd.Series(numb)"
   ]
  },
  {
   "cell_type": "code",
   "execution_count": 5,
   "metadata": {},
   "outputs": [
    {
     "data": {
      "text/plain": [
       "0    1.0\n",
       "1    2.0\n",
       "2    NaN\n",
       "dtype: float64"
      ]
     },
     "execution_count": 5,
     "metadata": {},
     "output_type": "execute_result"
    }
   ],
   "source": [
    "numbers=[1,2,None]\n",
    "pd.Series(numbers)#NaN is a special floating pt no that means not a number"
   ]
  },
  {
   "cell_type": "code",
   "execution_count": 15,
   "metadata": {},
   "outputs": [
    {
     "data": {
      "text/plain": [
       "Index(['India', 'USA', 'England', 'Bhutan'], dtype='object')"
      ]
     },
     "execution_count": 15,
     "metadata": {},
     "output_type": "execute_result"
    }
   ],
   "source": [
    "#Creating a series using dict\n",
    "sports={\"India\":\"Hockey\",\"USA\":\"Basketball\",\"England\":\"Football\",\"Bhutan\":\"Archery\"}\n",
    "s=pd.Series(sports)\n",
    "s.index"
   ]
  },
  {
   "cell_type": "code",
   "execution_count": 7,
   "metadata": {},
   "outputs": [
    {
     "data": {
      "text/plain": [
       "Golf      Tiger\n",
       "Sumo      Hippo\n",
       "Hockey      Cow\n",
       "dtype: object"
      ]
     },
     "execution_count": 7,
     "metadata": {},
     "output_type": "execute_result"
    }
   ],
   "source": [
    "s = pd.Series([\"Tiger\",\"Hippo\",\"Cow\"],index=[\"Golf\", \"Sumo\", \"Hockey\"])#Passing index as a list\n",
    "s"
   ]
  },
  {
   "cell_type": "code",
   "execution_count": 8,
   "metadata": {},
   "outputs": [
    {
     "ename": "IndexError",
     "evalue": "index out of bounds",
     "output_type": "error",
     "traceback": [
      "\u001b[1;31m---------------------------------------------------------------------------\u001b[0m",
      "\u001b[1;31mKeyError\u001b[0m                                  Traceback (most recent call last)",
      "\u001b[1;32m~\\Anaconda3\\lib\\site-packages\\pandas\\core\\indexes\\base.py\u001b[0m in \u001b[0;36mget_value\u001b[1;34m(self, series, key)\u001b[0m\n\u001b[0;32m   4729\u001b[0m         \u001b[1;32mtry\u001b[0m\u001b[1;33m:\u001b[0m\u001b[1;33m\u001b[0m\u001b[1;33m\u001b[0m\u001b[0m\n\u001b[1;32m-> 4730\u001b[1;33m             \u001b[1;32mreturn\u001b[0m \u001b[0mself\u001b[0m\u001b[1;33m.\u001b[0m\u001b[0m_engine\u001b[0m\u001b[1;33m.\u001b[0m\u001b[0mget_value\u001b[0m\u001b[1;33m(\u001b[0m\u001b[0ms\u001b[0m\u001b[1;33m,\u001b[0m \u001b[0mk\u001b[0m\u001b[1;33m,\u001b[0m \u001b[0mtz\u001b[0m\u001b[1;33m=\u001b[0m\u001b[0mgetattr\u001b[0m\u001b[1;33m(\u001b[0m\u001b[0mseries\u001b[0m\u001b[1;33m.\u001b[0m\u001b[0mdtype\u001b[0m\u001b[1;33m,\u001b[0m \u001b[1;34m\"tz\"\u001b[0m\u001b[1;33m,\u001b[0m \u001b[1;32mNone\u001b[0m\u001b[1;33m)\u001b[0m\u001b[1;33m)\u001b[0m\u001b[1;33m\u001b[0m\u001b[1;33m\u001b[0m\u001b[0m\n\u001b[0m\u001b[0;32m   4731\u001b[0m         \u001b[1;32mexcept\u001b[0m \u001b[0mKeyError\u001b[0m \u001b[1;32mas\u001b[0m \u001b[0me1\u001b[0m\u001b[1;33m:\u001b[0m\u001b[1;33m\u001b[0m\u001b[1;33m\u001b[0m\u001b[0m\n",
      "\u001b[1;32mpandas\\_libs\\index.pyx\u001b[0m in \u001b[0;36mpandas._libs.index.IndexEngine.get_value\u001b[1;34m()\u001b[0m\n",
      "\u001b[1;32mpandas\\_libs\\index.pyx\u001b[0m in \u001b[0;36mpandas._libs.index.IndexEngine.get_value\u001b[1;34m()\u001b[0m\n",
      "\u001b[1;32mpandas\\_libs\\index.pyx\u001b[0m in \u001b[0;36mpandas._libs.index.IndexEngine.get_loc\u001b[1;34m()\u001b[0m\n",
      "\u001b[1;32mpandas\\_libs\\hashtable_class_helper.pxi\u001b[0m in \u001b[0;36mpandas._libs.hashtable.PyObjectHashTable.get_item\u001b[1;34m()\u001b[0m\n",
      "\u001b[1;32mpandas\\_libs\\hashtable_class_helper.pxi\u001b[0m in \u001b[0;36mpandas._libs.hashtable.PyObjectHashTable.get_item\u001b[1;34m()\u001b[0m\n",
      "\u001b[1;31mKeyError\u001b[0m: 3",
      "\nDuring handling of the above exception, another exception occurred:\n",
      "\u001b[1;31mIndexError\u001b[0m                                Traceback (most recent call last)",
      "\u001b[1;32m<ipython-input-8-adfc24aa9045>\u001b[0m in \u001b[0;36m<module>\u001b[1;34m\u001b[0m\n\u001b[0;32m      1\u001b[0m \u001b[1;31m#Querying a list\u001b[0m\u001b[1;33m\u001b[0m\u001b[1;33m\u001b[0m\u001b[1;33m\u001b[0m\u001b[0m\n\u001b[1;32m----> 2\u001b[1;33m \u001b[0mprint\u001b[0m\u001b[1;33m(\u001b[0m\u001b[0ms\u001b[0m\u001b[1;33m[\u001b[0m\u001b[1;36m3\u001b[0m\u001b[1;33m]\u001b[0m\u001b[1;33m)\u001b[0m\u001b[1;31m#If we use numbers as our index list then this code genereates an error\u001b[0m\u001b[1;33m\u001b[0m\u001b[1;33m\u001b[0m\u001b[0m\n\u001b[0m\u001b[0;32m      3\u001b[0m \u001b[0ms\u001b[0m\u001b[1;33m.\u001b[0m\u001b[0miloc\u001b[0m\u001b[1;33m[\u001b[0m\u001b[1;36m3\u001b[0m\u001b[1;33m]\u001b[0m\u001b[1;31m#qureies using number\u001b[0m\u001b[1;33m\u001b[0m\u001b[1;33m\u001b[0m\u001b[0m\n\u001b[0;32m      4\u001b[0m \u001b[0ms\u001b[0m\u001b[1;33m.\u001b[0m\u001b[0mloc\u001b[0m\u001b[1;33m[\u001b[0m\u001b[1;34m\"USA\"\u001b[0m\u001b[1;33m]\u001b[0m\u001b[1;31m#queries using index\u001b[0m\u001b[1;33m\u001b[0m\u001b[1;33m\u001b[0m\u001b[0m\n",
      "\u001b[1;32m~\\Anaconda3\\lib\\site-packages\\pandas\\core\\series.py\u001b[0m in \u001b[0;36m__getitem__\u001b[1;34m(self, key)\u001b[0m\n\u001b[0;32m   1066\u001b[0m         \u001b[0mkey\u001b[0m \u001b[1;33m=\u001b[0m \u001b[0mcom\u001b[0m\u001b[1;33m.\u001b[0m\u001b[0mapply_if_callable\u001b[0m\u001b[1;33m(\u001b[0m\u001b[0mkey\u001b[0m\u001b[1;33m,\u001b[0m \u001b[0mself\u001b[0m\u001b[1;33m)\u001b[0m\u001b[1;33m\u001b[0m\u001b[1;33m\u001b[0m\u001b[0m\n\u001b[0;32m   1067\u001b[0m         \u001b[1;32mtry\u001b[0m\u001b[1;33m:\u001b[0m\u001b[1;33m\u001b[0m\u001b[1;33m\u001b[0m\u001b[0m\n\u001b[1;32m-> 1068\u001b[1;33m             \u001b[0mresult\u001b[0m \u001b[1;33m=\u001b[0m \u001b[0mself\u001b[0m\u001b[1;33m.\u001b[0m\u001b[0mindex\u001b[0m\u001b[1;33m.\u001b[0m\u001b[0mget_value\u001b[0m\u001b[1;33m(\u001b[0m\u001b[0mself\u001b[0m\u001b[1;33m,\u001b[0m \u001b[0mkey\u001b[0m\u001b[1;33m)\u001b[0m\u001b[1;33m\u001b[0m\u001b[1;33m\u001b[0m\u001b[0m\n\u001b[0m\u001b[0;32m   1069\u001b[0m \u001b[1;33m\u001b[0m\u001b[0m\n\u001b[0;32m   1070\u001b[0m             \u001b[1;32mif\u001b[0m \u001b[1;32mnot\u001b[0m \u001b[0mis_scalar\u001b[0m\u001b[1;33m(\u001b[0m\u001b[0mresult\u001b[0m\u001b[1;33m)\u001b[0m\u001b[1;33m:\u001b[0m\u001b[1;33m\u001b[0m\u001b[1;33m\u001b[0m\u001b[0m\n",
      "\u001b[1;32m~\\Anaconda3\\lib\\site-packages\\pandas\\core\\indexes\\base.py\u001b[0m in \u001b[0;36mget_value\u001b[1;34m(self, series, key)\u001b[0m\n\u001b[0;32m   4734\u001b[0m \u001b[1;33m\u001b[0m\u001b[0m\n\u001b[0;32m   4735\u001b[0m             \u001b[1;32mtry\u001b[0m\u001b[1;33m:\u001b[0m\u001b[1;33m\u001b[0m\u001b[1;33m\u001b[0m\u001b[0m\n\u001b[1;32m-> 4736\u001b[1;33m                 \u001b[1;32mreturn\u001b[0m \u001b[0mlibindex\u001b[0m\u001b[1;33m.\u001b[0m\u001b[0mget_value_box\u001b[0m\u001b[1;33m(\u001b[0m\u001b[0ms\u001b[0m\u001b[1;33m,\u001b[0m \u001b[0mkey\u001b[0m\u001b[1;33m)\u001b[0m\u001b[1;33m\u001b[0m\u001b[1;33m\u001b[0m\u001b[0m\n\u001b[0m\u001b[0;32m   4737\u001b[0m             \u001b[1;32mexcept\u001b[0m \u001b[0mIndexError\u001b[0m\u001b[1;33m:\u001b[0m\u001b[1;33m\u001b[0m\u001b[1;33m\u001b[0m\u001b[0m\n\u001b[0;32m   4738\u001b[0m                 \u001b[1;32mraise\u001b[0m\u001b[1;33m\u001b[0m\u001b[1;33m\u001b[0m\u001b[0m\n",
      "\u001b[1;32mpandas\\_libs\\index.pyx\u001b[0m in \u001b[0;36mpandas._libs.index.get_value_box\u001b[1;34m()\u001b[0m\n",
      "\u001b[1;32mpandas\\_libs\\index.pyx\u001b[0m in \u001b[0;36mpandas._libs.index.get_value_at\u001b[1;34m()\u001b[0m\n",
      "\u001b[1;32mpandas\\_libs\\util.pxd\u001b[0m in \u001b[0;36mpandas._libs.util.get_value_at\u001b[1;34m()\u001b[0m\n",
      "\u001b[1;32mpandas\\_libs\\util.pxd\u001b[0m in \u001b[0;36mpandas._libs.util.validate_indexer\u001b[1;34m()\u001b[0m\n",
      "\u001b[1;31mIndexError\u001b[0m: index out of bounds"
     ]
    }
   ],
   "source": [
    "#Querying a list\n",
    "print(s[3])#If we use numbers as our index list then this code genereates an error\n",
    "s.iloc[3]#qureies using number\n",
    "s.loc[\"USA\"]#queries using index "
   ]
  },
  {
   "cell_type": "code",
   "execution_count": 27,
   "metadata": {},
   "outputs": [
    {
     "name": "stdout",
     "output_type": "stream",
     "text": [
      "0\n",
      "10\n",
      "110\n"
     ]
    }
   ],
   "source": [
    "#using the extracted data\n",
    "n=pd.Series([0,10,100])\n",
    "total=0\n",
    "for i in n:\n",
    "    total+=i\n",
    "    print(total)#This method is too slow \n"
   ]
  },
  {
   "cell_type": "code",
   "execution_count": 26,
   "metadata": {},
   "outputs": [
    {
     "name": "stdout",
     "output_type": "stream",
     "text": [
      "110\n"
     ]
    }
   ],
   "source": [
    "import numpy as np\n",
    "total=np.sum(n)\n",
    "print(total)\n"
   ]
  },
  {
   "cell_type": "code",
   "execution_count": 44,
   "metadata": {},
   "outputs": [],
   "source": [
    "\n",
    "#a.head()#takes only the first 5 entries\n",
    "%timeit -n 100\n",
    "#uses 100 runs..for some reason it's not printing the time taken as it usually does\n",
    "summary = 0\n",
    "a=pd.Series(np.random.randint(0,1000,10000))\n",
    "for item in a:\n",
    "    summary+=item\n",
    "#%timeit for _ in range(1000): True"
   ]
  },
  {
   "cell_type": "code",
   "execution_count": 48,
   "metadata": {},
   "outputs": [],
   "source": [
    "%timeit -n 100\n",
    "summary=np.sum(a)#for some reason it's not printing the time taken as it usually does\n",
    "\n",
    "#trying to time another process. Method same as above\n",
    "%timeit -n 100\n",
    "b=pd.Series(np.random.randint(0,1000,10000))\n",
    "b+=2\n",
    "\n",
    "%timeit -n 100\n",
    "for label,value in b.iteritems():\n",
    "    b.loc[label]=value+2\n",
    "    #byobservation this process takes longer"
   ]
  },
  {
   "cell_type": "code",
   "execution_count": 49,
   "metadata": {},
   "outputs": [
    {
     "data": {
      "text/plain": [
       "0             1\n",
       "1             2\n",
       "2             3\n",
       "Animal    Bears\n",
       "dtype: object"
      ]
     },
     "execution_count": 49,
     "metadata": {},
     "output_type": "execute_result"
    }
   ],
   "source": [
    "s = pd.Series([1, 2, 3])\n",
    "s.loc['Animal'] = 'Bears'\n",
    "s"
   ]
  },
  {
   "cell_type": "code",
   "execution_count": 9,
   "metadata": {},
   "outputs": [],
   "source": [
    "original_sports = pd.Series({'Archery': 'Bhutan',\n",
    "                             'Golf': 'Scotland',\n",
    "                             'Sumo': 'Japan',\n",
    "                             'Taekwondo': 'South Korea'})\n",
    "cricket_loving_countries = pd.Series(['Australia',\n",
    "                                      'Barbados',\n",
    "                                      'Pakistan',\n",
    "                                      'England'], \n",
    "                                   index=['Cricket',\n",
    "                                          'Cricket',\n",
    "                                          'Cricket',\n",
    "                                          'Cricket'])\n",
    "all_countries = original_sports.append(cricket_loving_countries)"
   ]
  },
  {
   "cell_type": "code",
   "execution_count": 51,
   "metadata": {},
   "outputs": [
    {
     "data": {
      "text/plain": [
       "Archery           Bhutan\n",
       "Golf            Scotland\n",
       "Sumo               Japan\n",
       "Taekwondo    South Korea\n",
       "Cricket        Australia\n",
       "Cricket         Barbados\n",
       "Cricket         Pakistan\n",
       "Cricket          England\n",
       "dtype: object"
      ]
     },
     "execution_count": 51,
     "metadata": {},
     "output_type": "execute_result"
    }
   ],
   "source": [
    "original_sports\n",
    "cricket_loving_countries\n",
    "all_countries"
   ]
  },
  {
   "cell_type": "code",
   "execution_count": 52,
   "metadata": {},
   "outputs": [
    {
     "data": {
      "text/plain": [
       "Cricket    Australia\n",
       "Cricket     Barbados\n",
       "Cricket     Pakistan\n",
       "Cricket      England\n",
       "dtype: object"
      ]
     },
     "execution_count": 52,
     "metadata": {},
     "output_type": "execute_result"
    }
   ],
   "source": [
    "all_countries.loc['Cricket']"
   ]
  },
  {
   "cell_type": "code",
   "execution_count": 18,
   "metadata": {},
   "outputs": [
    {
     "name": "stdout",
     "output_type": "stream",
     "text": [
      "store1    20\n",
      "store2    40\n",
      "store3    30\n",
      "Name: Amt paid, dtype: int64\n"
     ]
    },
    {
     "data": {
      "text/plain": [
       "20"
      ]
     },
     "execution_count": 18,
     "metadata": {},
     "output_type": "execute_result"
    }
   ],
   "source": [
    "#dataframe data structure\n",
    "import pandas as pd\n",
    "p1=pd.Series({\"Name\":\"Tejas\",\"Gender\":\"Male\",\"Amt paid\":20})\n",
    "p2=pd.Series({\"Name\":\"Rohit\",\"Gender\":\"Male\",\"Amt paid\":40})\n",
    "p3=pd.Series({\"Name\":\"Deepa\",\"Gender\":\"Female\",\"Amt paid\":30})\n",
    "df=pd.DataFrame([p1,p2,p3],index=[\"store1\",\"store2\",\"store3\"])\n",
    "#print(df.head())\n",
    "print(df['Amt paid'])\n",
    "df.loc[\"store1\",\"Amt paid\"]\n",
    "#df.loc[\"Amt paid\"]"
   ]
  },
  {
   "cell_type": "code",
   "execution_count": 37,
   "metadata": {},
   "outputs": [
    {
     "data": {
      "text/html": [
       "<div>\n",
       "<style scoped>\n",
       "    .dataframe tbody tr th:only-of-type {\n",
       "        vertical-align: middle;\n",
       "    }\n",
       "\n",
       "    .dataframe tbody tr th {\n",
       "        vertical-align: top;\n",
       "    }\n",
       "\n",
       "    .dataframe thead th {\n",
       "        text-align: right;\n",
       "    }\n",
       "</style>\n",
       "<table border=\"1\" class=\"dataframe\">\n",
       "  <thead>\n",
       "    <tr style=\"text-align: right;\">\n",
       "      <th></th>\n",
       "      <th>Name</th>\n",
       "      <th>Amt paid</th>\n",
       "    </tr>\n",
       "  </thead>\n",
       "  <tbody>\n",
       "    <tr>\n",
       "      <td>store1</td>\n",
       "      <td>Tejas</td>\n",
       "      <td>20</td>\n",
       "    </tr>\n",
       "    <tr>\n",
       "      <td>store3</td>\n",
       "      <td>Deepa</td>\n",
       "      <td>30</td>\n",
       "    </tr>\n",
       "  </tbody>\n",
       "</table>\n",
       "</div>"
      ],
      "text/plain": [
       "         Name  Amt paid\n",
       "store1  Tejas        20\n",
       "store3  Deepa        30"
      ]
     },
     "execution_count": 37,
     "metadata": {},
     "output_type": "execute_result"
    }
   ],
   "source": [
    "df.T#transpose rows and columns\n",
    "df.T.loc['Amt paid']\n",
    "df.loc[\"store1\"][\"Amt paid\"]\n",
    "df.loc[:,[\"Name\",\"Amt paid\"]]#we're slicing the set. The second argument is a list of our parameters..this is basically creating a new set with these columns"
   ]
  },
  {
   "cell_type": "code",
   "execution_count": 65,
   "metadata": {},
   "outputs": [],
   "source": [
    "#Dropping a set\n",
    "#df=df.drop('store2')#it's giving me this error because i dropped store2 already..we use this to drop elements. If i juts write df.drop(\"store2\"), no dropping happens\n",
    "#print(df)\n",
    "#copy_df = df.copy()\n",
    "#copy_df = copy_df.drop('store2')#a better method to assess dropping is by checking the copy of the data\n",
    "#copy_df\n"
   ]
  },
  {
   "cell_type": "code",
   "execution_count": 66,
   "metadata": {},
   "outputs": [],
   "source": [
    "#modifying elements\n",
    "#df[\"Gender\"]=None\n",
    "#df\n",
    "#creating a list with the given data\n",
    "#cost=df[\"Amt paid\"]\n",
    "#cost+=2"
   ]
  },
  {
   "cell_type": "code",
   "execution_count": 2,
   "metadata": {},
   "outputs": [
    {
     "data": {
      "text/html": [
       "<div>\n",
       "<style scoped>\n",
       "    .dataframe tbody tr th:only-of-type {\n",
       "        vertical-align: middle;\n",
       "    }\n",
       "\n",
       "    .dataframe tbody tr th {\n",
       "        vertical-align: top;\n",
       "    }\n",
       "\n",
       "    .dataframe thead th {\n",
       "        text-align: right;\n",
       "    }\n",
       "</style>\n",
       "<table border=\"1\" class=\"dataframe\">\n",
       "  <thead>\n",
       "    <tr style=\"text-align: right;\">\n",
       "      <th></th>\n",
       "      <th>Year</th>\n",
       "      <th>Western Champion</th>\n",
       "      <th>Result</th>\n",
       "      <th>NBA Champion</th>\n",
       "      <th>NBA Vice-Champion</th>\n",
       "      <th>Final Sweep ?</th>\n",
       "      <th>MVP Name</th>\n",
       "      <th>MVP Height (m)</th>\n",
       "      <th>MVP Height (ft)</th>\n",
       "      <th>MVP Position</th>\n",
       "      <th>MVP Team</th>\n",
       "      <th>MVP Nationality</th>\n",
       "      <th>MVP status</th>\n",
       "    </tr>\n",
       "    <tr>\n",
       "      <th>Eastern Champion</th>\n",
       "      <th></th>\n",
       "      <th></th>\n",
       "      <th></th>\n",
       "      <th></th>\n",
       "      <th></th>\n",
       "      <th></th>\n",
       "      <th></th>\n",
       "      <th></th>\n",
       "      <th></th>\n",
       "      <th></th>\n",
       "      <th></th>\n",
       "      <th></th>\n",
       "      <th></th>\n",
       "    </tr>\n",
       "  </thead>\n",
       "  <tbody>\n",
       "    <tr>\n",
       "      <td>Syracuse Nationals</td>\n",
       "      <td>1950</td>\n",
       "      <td>Minneapolis Lakers</td>\n",
       "      <td>4–2</td>\n",
       "      <td>Minneapolis Lakers</td>\n",
       "      <td>Syracuse Nationals</td>\n",
       "      <td>False</td>\n",
       "      <td>NaN</td>\n",
       "      <td>NaN</td>\n",
       "      <td>NaN</td>\n",
       "      <td>NaN</td>\n",
       "      <td>NaN</td>\n",
       "      <td>NaN</td>\n",
       "      <td>NaN</td>\n",
       "    </tr>\n",
       "    <tr>\n",
       "      <td>New York Knicks</td>\n",
       "      <td>1951</td>\n",
       "      <td>Rochester Royals</td>\n",
       "      <td>4–3</td>\n",
       "      <td>Rochester Royals</td>\n",
       "      <td>New York Knicks</td>\n",
       "      <td>False</td>\n",
       "      <td>NaN</td>\n",
       "      <td>NaN</td>\n",
       "      <td>NaN</td>\n",
       "      <td>NaN</td>\n",
       "      <td>NaN</td>\n",
       "      <td>NaN</td>\n",
       "      <td>NaN</td>\n",
       "    </tr>\n",
       "    <tr>\n",
       "      <td>New York Knicks</td>\n",
       "      <td>1952</td>\n",
       "      <td>Minneapolis Lakers</td>\n",
       "      <td>4–3</td>\n",
       "      <td>Minneapolis Lakers</td>\n",
       "      <td>New York Knicks</td>\n",
       "      <td>False</td>\n",
       "      <td>NaN</td>\n",
       "      <td>NaN</td>\n",
       "      <td>NaN</td>\n",
       "      <td>NaN</td>\n",
       "      <td>NaN</td>\n",
       "      <td>NaN</td>\n",
       "      <td>NaN</td>\n",
       "    </tr>\n",
       "    <tr>\n",
       "      <td>New York Knicks</td>\n",
       "      <td>1953</td>\n",
       "      <td>Minneapolis Lakers</td>\n",
       "      <td>4–1</td>\n",
       "      <td>Minneapolis Lakers</td>\n",
       "      <td>New York Knicks</td>\n",
       "      <td>False</td>\n",
       "      <td>NaN</td>\n",
       "      <td>NaN</td>\n",
       "      <td>NaN</td>\n",
       "      <td>NaN</td>\n",
       "      <td>NaN</td>\n",
       "      <td>NaN</td>\n",
       "      <td>NaN</td>\n",
       "    </tr>\n",
       "    <tr>\n",
       "      <td>Syracuse Nationals</td>\n",
       "      <td>1954</td>\n",
       "      <td>Minneapolis Lakers</td>\n",
       "      <td>4–3</td>\n",
       "      <td>Minneapolis Lakers</td>\n",
       "      <td>Syracuse Nationals</td>\n",
       "      <td>False</td>\n",
       "      <td>NaN</td>\n",
       "      <td>NaN</td>\n",
       "      <td>NaN</td>\n",
       "      <td>NaN</td>\n",
       "      <td>NaN</td>\n",
       "      <td>NaN</td>\n",
       "      <td>NaN</td>\n",
       "    </tr>\n",
       "  </tbody>\n",
       "</table>\n",
       "</div>"
      ],
      "text/plain": [
       "                    Year    Western Champion Result        NBA Champion  \\\n",
       "Eastern Champion                                                          \n",
       "Syracuse Nationals  1950  Minneapolis Lakers    4–2  Minneapolis Lakers   \n",
       "New York Knicks     1951    Rochester Royals    4–3    Rochester Royals   \n",
       "New York Knicks     1952  Minneapolis Lakers    4–3  Minneapolis Lakers   \n",
       "New York Knicks     1953  Minneapolis Lakers    4–1  Minneapolis Lakers   \n",
       "Syracuse Nationals  1954  Minneapolis Lakers    4–3  Minneapolis Lakers   \n",
       "\n",
       "                     NBA Vice-Champion  Final Sweep ? MVP Name  \\\n",
       "Eastern Champion                                                 \n",
       "Syracuse Nationals  Syracuse Nationals          False      NaN   \n",
       "New York Knicks        New York Knicks          False      NaN   \n",
       "New York Knicks        New York Knicks          False      NaN   \n",
       "New York Knicks        New York Knicks          False      NaN   \n",
       "Syracuse Nationals  Syracuse Nationals          False      NaN   \n",
       "\n",
       "                    MVP Height (m)  MVP Height (ft) MVP Position MVP Team  \\\n",
       "Eastern Champion                                                            \n",
       "Syracuse Nationals             NaN              NaN          NaN      NaN   \n",
       "New York Knicks                NaN              NaN          NaN      NaN   \n",
       "New York Knicks                NaN              NaN          NaN      NaN   \n",
       "New York Knicks                NaN              NaN          NaN      NaN   \n",
       "Syracuse Nationals             NaN              NaN          NaN      NaN   \n",
       "\n",
       "                   MVP Nationality MVP status  \n",
       "Eastern Champion                               \n",
       "Syracuse Nationals             NaN        NaN  \n",
       "New York Knicks                NaN        NaN  \n",
       "New York Knicks                NaN        NaN  \n",
       "New York Knicks                NaN        NaN  \n",
       "Syracuse Nationals             NaN        NaN  "
      ]
     },
     "execution_count": 2,
     "metadata": {},
     "output_type": "execute_result"
    }
   ],
   "source": [
    "#The errors above are coz i assigned df to this\n",
    "#reading csv files\n",
    "#df=pd.read_csv(\"vela_Pulsar.csv\")\n",
    "#db = pd.read_excel('https://query.data.world/s/cqgsjhuv7c4uk7zjyag3d5kr7rmb2p')\n",
    "import pandas as pd\n",
    "db=pd.read_excel('https://query.data.world/s/cqgsjhuv7c4uk7zjyag3d5kr7rmb2p',index_col = 2, skiprows=0)#querying with restrictions\n",
    "db.head()"
   ]
  },
  {
   "cell_type": "code",
   "execution_count": 3,
   "metadata": {},
   "outputs": [
    {
     "data": {
      "text/plain": [
       "'Eastern Champion\\nCleveland Cavaliers    Golden State Warriors\\nName: NBA Champion, dtype: object'"
      ]
     },
     "execution_count": 3,
     "metadata": {},
     "output_type": "execute_result"
    }
   ],
   "source": [
    "#boolean masking\n",
    "db['Year']>1950   #runs this condition for all entries and makes all the fields of whatever isn't true NaN\n",
    "dx=db.where(db['Year']>2002)\n",
    "dx.head()\n",
    "dx['Year'].count() #only counts non-zero(no NaN) entries\n",
    "dy=dx[['Year','NBA Champion']]#Remember to use this format if i wanna create a subset.\n",
    "\n",
    "dy=dy.dropna()\n",
    "dy=dy[dy['Year']==max(dy['Year'])]\n",
    "#dy.set_index('Year')\n",
    "x=dy['NBA Champion']\n",
    "str(x)\n",
    "#dy[(dy['NBA Champion'][0:9]==\"Philadelp\")]\n",
    "\n",
    "#dz=pd.DataFrame()\n",
    "#dz=db\n",
    "#diff=[dz['Year']-2000]\n",
    "\n",
    "#dz['diff']=diff\n",
    "#db.iloc[0]"
   ]
  },
  {
   "cell_type": "code",
   "execution_count": 6,
   "metadata": {},
   "outputs": [
    {
     "data": {
      "text/plain": [
       "2018.0"
      ]
     },
     "execution_count": 6,
     "metadata": {},
     "output_type": "execute_result"
    }
   ],
   "source": [
    "dx=dx.dropna() #to drop all empty(NaN) values\n",
    "max(dx['Year'])\n",
    "#dx[\"Final Sweep?\"]==0"
   ]
  },
  {
   "cell_type": "code",
   "execution_count": 16,
   "metadata": {},
   "outputs": [
    {
     "data": {
      "text/html": [
       "<div>\n",
       "<style scoped>\n",
       "    .dataframe tbody tr th:only-of-type {\n",
       "        vertical-align: middle;\n",
       "    }\n",
       "\n",
       "    .dataframe tbody tr th {\n",
       "        vertical-align: top;\n",
       "    }\n",
       "\n",
       "    .dataframe thead th {\n",
       "        text-align: right;\n",
       "    }\n",
       "</style>\n",
       "<table border=\"1\" class=\"dataframe\">\n",
       "  <thead>\n",
       "    <tr style=\"text-align: right;\">\n",
       "      <th></th>\n",
       "      <th>Year</th>\n",
       "      <th>Western Champion</th>\n",
       "      <th>Result</th>\n",
       "      <th>NBA Champion</th>\n",
       "      <th>NBA Vice-Champion</th>\n",
       "      <th>Final Sweep ?</th>\n",
       "      <th>MVP Name</th>\n",
       "      <th>MVP Height (m)</th>\n",
       "      <th>MVP Height (ft)</th>\n",
       "      <th>MVP Position</th>\n",
       "      <th>MVP Team</th>\n",
       "      <th>MVP Nationality</th>\n",
       "      <th>MVP status</th>\n",
       "      <th>Final Sweep?</th>\n",
       "    </tr>\n",
       "    <tr>\n",
       "      <th>Eastern Champion</th>\n",
       "      <th></th>\n",
       "      <th></th>\n",
       "      <th></th>\n",
       "      <th></th>\n",
       "      <th></th>\n",
       "      <th></th>\n",
       "      <th></th>\n",
       "      <th></th>\n",
       "      <th></th>\n",
       "      <th></th>\n",
       "      <th></th>\n",
       "      <th></th>\n",
       "      <th></th>\n",
       "      <th></th>\n",
       "    </tr>\n",
       "  </thead>\n",
       "  <tbody>\n",
       "  </tbody>\n",
       "</table>\n",
       "</div>"
      ],
      "text/plain": [
       "Empty DataFrame\n",
       "Columns: [Year, Western Champion, Result, NBA Champion, NBA Vice-Champion, Final Sweep ?, MVP Name, MVP Height (m), MVP Height (ft), MVP Position, MVP Team, MVP Nationality, MVP status, Final Sweep?]\n",
       "Index: []"
      ]
     },
     "execution_count": 16,
     "metadata": {},
     "output_type": "execute_result"
    }
   ],
   "source": [
    "#using bitwise operators for masking\n",
    "db[(db['Year']>2006)|(db['MVP Height (ft)']<6.2)]#Bitwise or\n",
    "db[(db['Year']>2006)&(db['MVP Height (ft)']<6.2)]#Bitwise and...go AI!!"
   ]
  },
  {
   "cell_type": "code",
   "execution_count": null,
   "metadata": {},
   "outputs": [],
   "source": [
    "#indexing dataframes part didn't get saved. Watch again if needed"
   ]
  },
  {
   "cell_type": "code",
   "execution_count": null,
   "metadata": {},
   "outputs": [],
   "source": []
  }
 ],
 "metadata": {
  "kernelspec": {
   "display_name": "Python 3",
   "language": "python",
   "name": "python3"
  },
  "language_info": {
   "codemirror_mode": {
    "name": "ipython",
    "version": 3
   },
   "file_extension": ".py",
   "mimetype": "text/x-python",
   "name": "python",
   "nbconvert_exporter": "python",
   "pygments_lexer": "ipython3",
   "version": "3.7.4"
  }
 },
 "nbformat": 4,
 "nbformat_minor": 2
}
