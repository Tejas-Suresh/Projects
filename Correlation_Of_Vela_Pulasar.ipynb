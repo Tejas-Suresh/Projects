{
 "cells": [
  {
   "cell_type": "code",
   "execution_count": 1,
   "metadata": {},
   "outputs": [],
   "source": [
    "import matplotlib.pyplot as plt\n",
    "import numpy as np\n",
    "x=np.loadtxt('vela_Pulsar.mbr')"
   ]
  },
  {
   "cell_type": "code",
   "execution_count": 2,
   "metadata": {},
   "outputs": [],
   "source": [
    "y=x[:,1]\n",
    "z=x[:,0]"
   ]
  },
  {
   "cell_type": "code",
   "execution_count": 7,
   "metadata": {},
   "outputs": [
    {
     "data": {
      "text/plain": [
       "(array([-10,  -9,  -8,  -7,  -6,  -5,  -4,  -3,  -2,  -1,   0,   1,   2,\n",
       "          3,   4,   5,   6,   7,   8,   9,  10]),\n",
       " array([ 0.14601248, -0.17165774,  0.080038  ,  0.1299325 , -0.04048434,\n",
       "         0.27770292, -0.08065845,  0.00801414, -0.00408463,  0.14342728,\n",
       "        -0.25133381, -0.22387892,  0.32651163,  0.14725338, -0.10609689,\n",
       "         0.12801944, -0.32041054, -0.27206717,  0.31255151, -0.13882561,\n",
       "        -0.05889101]),\n",
       " <matplotlib.collections.LineCollection at 0x179d6449f48>,\n",
       " <matplotlib.lines.Line2D at 0x179d5cec208>)"
      ]
     },
     "execution_count": 7,
     "metadata": {},
     "output_type": "execute_result"
    },
    {
     "data": {
      "image/png": "[encoded data removed]",
      "text/plain": [
       "<Figure size 432x288 with 1 Axes>"
      ]
     },
     "metadata": {
      "needs_background": "light"
     },
     "output_type": "display_data"
    }
   ],
   "source": [
    "ysh=y[:20]\n",
    "zsh=z[:20]\n",
    "\n",
    "plt.xcorr(ysh,zsh)#plotting cross-correlation data of vela pulsar data"
   ]
  }
 ],
 "metadata": {
  "kernelspec": {
   "display_name": "Python 3",
   "language": "python",
   "name": "python3"
  },
  "language_info": {
   "codemirror_mode": {
    "name": "ipython",
    "version": 3
   },
   "file_extension": ".py",
   "mimetype": "text/x-python",
   "name": "python",
   "nbconvert_exporter": "python",
   "pygments_lexer": "ipython3",
   "version": "3.7.4"
  }
 },
 "nbformat": 4,
 "nbformat_minor": 2
}
